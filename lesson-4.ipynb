{
  nbformat 4,
  nbformat_minor 0,
  metadata {
    hide_input false,
    kernelspec {
      display_name Python 3,
      language python,
      name python3
    },
    language_info {
      codemirror_mode {
        name ipython,
        version 3
      },
      file_extension .py,
      mimetype textx-python,
      name python,
      nbconvert_exporter python,
      pygments_lexer ipython3,
      version 3.7.9
    },
    toc {
      base_numbering 1,
      nav_menu {},
      number_sections true,
      sideBar true,
      skip_h1_title false,
      title_cell Table of Contents,
      title_sidebar Contents,
      toc_cell false,
      toc_position {},
      toc_section_display true,
      toc_window_display false
    },
    colab {
      name lesson_4.ipynb,
      provenance [],
      collapsed_sections []
    }
  },
  cells [
    {
      cell_type markdown,
      metadata {
        id RuclG4rGv39E
      },
      source [
        # �� 4. Uplift-�������������
      ]
    },
    {
      cell_type code,
      metadata {
        id -XFc161DwgDy
      },
      source [
        !pip install scikit-uplift
      ],
      execution_count null,
      outputs []
    },
    {
      cell_type code,
      metadata {
        id Yp0KQ8OUwmvF
      },
      source [
        !pip install causalml
      ],
      execution_count null,
      outputs []
    },
    {
      cell_type code,
      metadata {
        id ehcMTxxpxn_R
      },
      source [
        !pip install scikit-learn
      ],
      execution_count null,
      outputs []
    },
    {
      cell_type code,
      metadata {
        id OQJu3ThfxqIB
      },
      source [
        !pip install catboost
      ],
      execution_count null,
      outputs []
    },
    {
      cell_type code,
      metadata {
        id b0dkIPCH99uh
      },
      source [
        !pip install pydotplus
      ],
      execution_count null,
      outputs []
    },
    {
      cell_type code,
      metadata {
        id r0HiyAnO_9wi
      },
      source [
        !pip install graphviz
      ],
      execution_count null,
      outputs []
    },
    {
      cell_type code,
      metadata {
        colab {
          base_uri httpslocalhost8080
        },
        id cdEN6MrWv39M,
        outputId 4d87f7c0-7ae2-4a80-eb11-9a6befd18f83
      },
      source [
        import pandas as pdn,
        import numpy as npn,
        import matplotlib.pyplot as pltn,
        %matplotlib inlinen,
        n,
        import pydotplusn,
        from graphviz import Sourcen,
        from sklearn import treen,
        n,
        from sklift.metrics import uplift_at_kn,
        from sklift.viz import plot_uplift_predsn,
        from sklift.models import SoloModel, ClassTransformation, TwoModelsn,
        n,
        from IPython.display import Imagen,
        from causalml.inference.tree import UpliftTreeClassifier, UpliftRandomForestClassifiern,
        from causalml.inference.tree import uplift_tree_string, uplift_tree_plotn,
        n,
        from sklearn.model_selection import train_test_splitn,
        from catboost import CatBoostClassifiern,
        n,
        import warningsn,
        warnings.simplefilter('ignore')n,
        n,
        from google.colab import driven,
        drive.mount('contentdrive')
      ],
      execution_count 88,
      outputs [
        {
          output_type stream,
          text [
            Drive already mounted at contentdrive; to attempt to forcibly remount, call drive.mount(contentdrive, force_remount=True).n
          ],
          name stdout
        }
      ]
    },
    {
      cell_type markdown,
      metadata {
        id fR3mgS05x75o
      },
      source [
        ## ����� ������ ������������� ��������
      ]
    },
    {
      cell_type markdown,
      metadata {
        id zS7nZrcXv39O
      },
      source [
        ������� ����� ������ ������������� �������� ������ httpswww.kaggle.comdavinwijayacustomer-retention
      ]
    },
    {
      cell_type code,
      metadata {
        scrolled true,
        id kP_2PSN6v39O
      },
      source [
        df = pd.read_csv('contentdriveMy DriveColab-Notebooksdata.csv', ',')
      ],
      execution_count 56,
      outputs []
    },
    {
      cell_type code,
      metadata {
        colab {
          base_uri httpslocalhost8080,
          height 198
        },
        id fGf8u9BFv39P,
        outputId 44994130-a9b0-4a6b-82e7-35b2e97910e2
      },
      source [
        df.head(5)
      ],
      execution_count 57,
      outputs [
        {
          output_type execute_result,
          data {
            texthtml [
              divn,
              style scopedn,
                  .dataframe tbody tr thonly-of-type {n,
                      vertical-align middle;n,
                  }n,
              n,
                  .dataframe tbody tr th {n,
                      vertical-align top;n,
                  }n,
              n,
                  .dataframe thead th {n,
                      text-align right;n,
                  }n,
              stylen,
              table border=1 class=dataframen,
                theadn,
                  tr style=text-align right;n,
                    ththn,
                    threcencythn,
                    thhistorythn,
                    thused_discountthn,
                    thused_bogothn,
                    thzip_codethn,
                    this_referralthn,
                    thchannelthn,
                    thofferthn,
                    thconversionthn,
                  trn,
                theadn,
                tbodyn,
                  trn,
                    th0thn,
                    td10tdn,
                    td142.44tdn,
                    td1tdn,
                    td0tdn,
                    tdSurburbantdn,
                    td0tdn,
                    tdPhonetdn,
                    tdBuy One Get Onetdn,
                    td0tdn,
                  trn,
                  trn,
                    th1thn,
                    td6tdn,
                    td329.08tdn,
                    td1tdn,
                    td1tdn,
                    tdRuraltdn,
                    td1tdn,
                    tdWebtdn,
                    tdNo Offertdn,
                    td0tdn,
                  trn,
                  trn,
                    th2thn,
                    td7tdn,
                    td180.65tdn,
                    td0tdn,
                    td1tdn,
                    tdSurburbantdn,
                    td1tdn,
                    tdWebtdn,
                    tdBuy One Get Onetdn,
                    td0tdn,
                  trn,
                  trn,
                    th3thn,
                    td9tdn,
                    td675.83tdn,
                    td1tdn,
                    td0tdn,
                    tdRuraltdn,
                    td1tdn,
                    tdWebtdn,
                    tdDiscounttdn,
                    td0tdn,
                  trn,
                  trn,
                    th4thn,
                    td2tdn,
                    td45.34tdn,
                    td1tdn,
                    td0tdn,
                    tdUrbantdn,
                    td0tdn,
                    tdWebtdn,
                    tdBuy One Get Onetdn,
                    td0tdn,
                  trn,
                tbodyn,
              tablen,
              div
            ],
            textplain [
                 recency  history  used_discount  ...  channel            offer  conversionn,
              0       10   142.44              1  ...    Phone  Buy One Get One           0n,
              1        6   329.08              1  ...      Web         No Offer           0n,
              2        7   180.65              0  ...      Web  Buy One Get One           0n,
              3        9   675.83              1  ...      Web         Discount           0n,
              4        2    45.34              1  ...      Web  Buy One Get One           0n,
              n,
              [5 rows x 9 columns]
            ]
          },
          metadata {
            tags []
          },
          execution_count 57
        }
      ]
    },
    {
      cell_type code,
      metadata {
        colab {
          base_uri httpslocalhost8080
        },
        id 1k44JBCMu0Bg,
        outputId d59039c3-140f-459a-fa54-f49a8c0e45ff
      },
      source [
        df.info()
      ],
      execution_count 10,
      outputs [
        {
          output_type stream,
          text [
            class 'pandas.core.frame.DataFrame'n,
            RangeIndex 64000 entries, 0 to 63999n,
            Data columns (total 9 columns)n,
             #   Column         Non-Null Count  Dtype  n,
            ---  ------         --------------  -----  n,
             0   recency        64000 non-null  int64  n,
             1   history        64000 non-null  float64n,
             2   used_discount  64000 non-null  int64  n,
             3   used_bogo      64000 non-null  int64  n,
             4   zip_code       64000 non-null  object n,
             5   is_referral    64000 non-null  int64  n,
             6   channel        64000 non-null  object n,
             7   offer          64000 non-null  object n,
             8   conversion     64000 non-null  int64  n,
            dtypes float64(1), int64(5), object(3)n,
            memory usage 4.4+ MBn
          ],
          name stdout
        }
      ]
    },
    {
      cell_type markdown,
      metadata {
        id tVH6ZOgg1L4M
      },
      source [
        ## ������������� ������
      ]
    },
    {
      cell_type markdown,
      metadata {
        id -SK7JkPIv39P
      },
      source [
        ���� conversion - ��� ������� ����������, � offer - ������������. ������������� ���� (conversion - target, offer - treatment) � �������� ���� treatment � ��������� ���� (1 ��� 0, �.� ���� �����-�� ����������� ��� ���) - �������� No Offer �������� ���������� ������������, � ��� ��������� - �������.
      ]
    },
    {
      cell_type code,
      metadata {
        id 7DDUj9fVv39P,
        colab {
          base_uri httpslocalhost8080,
          height 138
        },
        outputId 7e379fdb-28a2-4b4e-ae46-bc532d6e314e
      },
      source [
        df.rename(columns={'conversion' 'target', 'offer' 'treatment'}, inplace=True)n,
        df.head(3)
      ],
      execution_count 58,
      outputs [
        {
          output_type execute_result,
          data {
            texthtml [
              divn,
              style scopedn,
                  .dataframe tbody tr thonly-of-type {n,
                      vertical-align middle;n,
                  }n,
              n,
                  .dataframe tbody tr th {n,
                      vertical-align top;n,
                  }n,
              n,
                  .dataframe thead th {n,
                      text-align right;n,
                  }n,
              stylen,
              table border=1 class=dataframen,
                theadn,
                  tr style=text-align right;n,
                    ththn,
                    threcencythn,
                    thhistorythn,
                    thused_discountthn,
                    thused_bogothn,
                    thzip_codethn,
                    this_referralthn,
                    thchannelthn,
                    thtreatmentthn,
                    thtargetthn,
                  trn,
                theadn,
                tbodyn,
                  trn,
                    th0thn,
                    td10tdn,
                    td142.44tdn,
                    td1tdn,
                    td0tdn,
                    tdSurburbantdn,
                    td0tdn,
                    tdPhonetdn,
                    tdBuy One Get Onetdn,
                    td0tdn,
                  trn,
                  trn,
                    th1thn,
                    td6tdn,
                    td329.08tdn,
                    td1tdn,
                    td1tdn,
                    tdRuraltdn,
                    td1tdn,
                    tdWebtdn,
                    tdNo Offertdn,
                    td0tdn,
                  trn,
                  trn,
                    th2thn,
                    td7tdn,
                    td180.65tdn,
                    td0tdn,
                    td1tdn,
                    tdSurburbantdn,
                    td1tdn,
                    tdWebtdn,
                    tdBuy One Get Onetdn,
                    td0tdn,
                  trn,
                tbodyn,
              tablen,
              div
            ],
            textplain [
                 recency  history  used_discount  ...  channel        treatment  targetn,
              0       10   142.44              1  ...    Phone  Buy One Get One       0n,
              1        6   329.08              1  ...      Web         No Offer       0n,
              2        7   180.65              0  ...      Web  Buy One Get One       0n,
              n,
              [3 rows x 9 columns]
            ]
          },
          metadata {
            tags []
          },
          execution_count 58
        }
      ]
    },
    {
      cell_type code,
      metadata {
        colab {
          base_uri httpslocalhost8080,
          height 138
        },
        id 92BIRxLNvFZQ,
        outputId 109dea01-8d5e-4f3e-fbb0-1315b0368d3d
      },
      source [
        df['treatment'] = df['treatment'].apply(lambda x 0 if x=='No Offer' else 1)n,
        df.head(3)
      ],
      execution_count 59,
      outputs [
        {
          output_type execute_result,
          data {
            texthtml [
              divn,
              style scopedn,
                  .dataframe tbody tr thonly-of-type {n,
                      vertical-align middle;n,
                  }n,
              n,
                  .dataframe tbody tr th {n,
                      vertical-align top;n,
                  }n,
              n,
                  .dataframe thead th {n,
                      text-align right;n,
                  }n,
              stylen,
              table border=1 class=dataframen,
                theadn,
                  tr style=text-align right;n,
                    ththn,
                    threcencythn,
                    thhistorythn,
                    thused_discountthn,
                    thused_bogothn,
                    thzip_codethn,
                    this_referralthn,
                    thchannelthn,
                    thtreatmentthn,
                    thtargetthn,
                  trn,
                theadn,
                tbodyn,
                  trn,
                    th0thn,
                    td10tdn,
                    td142.44tdn,
                    td1tdn,
                    td0tdn,
                    tdSurburbantdn,
                    td0tdn,
                    tdPhonetdn,
                    td1tdn,
                    td0tdn,
                  trn,
                  trn,
                    th1thn,
                    td6tdn,
                    td329.08tdn,
                    td1tdn,
                    td1tdn,
                    tdRuraltdn,
                    td1tdn,
                    tdWebtdn,
                    td0tdn,
                    td0tdn,
                  trn,
                  trn,
                    th2thn,
                    td7tdn,
                    td180.65tdn,
                    td0tdn,
                    td1tdn,
                    tdSurburbantdn,
                    td1tdn,
                    tdWebtdn,
                    td1tdn,
                    td0tdn,
                  trn,
                tbodyn,
              tablen,
              div
            ],
            textplain [
                 recency  history  used_discount  ...  channel treatment  targetn,
              0       10   142.44              1  ...    Phone         1       0n,
              1        6   329.08              1  ...      Web         0       0n,
              2        7   180.65              0  ...      Web         1       0n,
              n,
              [3 rows x 9 columns]
            ]
          },
          metadata {
            tags []
          },
          execution_count 59
        }
      ]
    },
    {
      cell_type markdown,
      metadata {
        id D1yX7INj1iit
      },
      source [
        ## Feature engineering
      ]
    },
    {
      cell_type markdown,
      metadata {
        id 82KWaQSnv39Q
      },
      source [
        C������ feature engineering �� ���� ���������� (����������� ������� ������ �������)
      ]
    },
    {
      cell_type code,
      metadata {
        colab {
          base_uri httpslocalhost8080,
          height 288
        },
        id zzoNPUv4wu81,
        outputId 182d67a3-640d-450f-ff24-8e116f23eaf9
      },
      source [
        df.describe()
      ],
      execution_count 60,
      outputs [
        {
          output_type execute_result,
          data {
            texthtml [
              divn,
              style scopedn,
                  .dataframe tbody tr thonly-of-type {n,
                      vertical-align middle;n,
                  }n,
              n,
                  .dataframe tbody tr th {n,
                      vertical-align top;n,
                  }n,
              n,
                  .dataframe thead th {n,
                      text-align right;n,
                  }n,
              stylen,
              table border=1 class=dataframen,
                theadn,
                  tr style=text-align right;n,
                    ththn,
                    threcencythn,
                    thhistorythn,
                    thused_discountthn,
                    thused_bogothn,
                    this_referralthn,
                    thtreatmentthn,
                    thtargetthn,
                  trn,
                theadn,
                tbodyn,
                  trn,
                    thcountthn,
                    td64000.000000tdn,
                    td64000.000000tdn,
                    td64000.000000tdn,
                    td64000.000000tdn,
                    td64000.000000tdn,
                    td64000.000000tdn,
                    td64000.000000tdn,
                  trn,
                  trn,
                    thmeanthn,
                    td5.763734tdn,
                    td242.085656tdn,
                    td0.551031tdn,
                    td0.549719tdn,
                    td0.502250tdn,
                    td0.667094tdn,
                    td0.146781tdn,
                  trn,
                  trn,
                    thstdthn,
                    td3.507592tdn,
                    td256.158608tdn,
                    td0.497393tdn,
                    td0.497526tdn,
                    td0.499999tdn,
                    td0.471257tdn,
                    td0.353890tdn,
                  trn,
                  trn,
                    thminthn,
                    td1.000000tdn,
                    td29.990000tdn,
                    td0.000000tdn,
                    td0.000000tdn,
                    td0.000000tdn,
                    td0.000000tdn,
                    td0.000000tdn,
                  trn,
                  trn,
                    th25%thn,
                    td2.000000tdn,
                    td64.660000tdn,
                    td0.000000tdn,
                    td0.000000tdn,
                    td0.000000tdn,
                    td0.000000tdn,
                    td0.000000tdn,
                  trn,
                  trn,
                    th50%thn,
                    td6.000000tdn,
                    td158.110000tdn,
                    td1.000000tdn,
                    td1.000000tdn,
                    td1.000000tdn,
                    td1.000000tdn,
                    td0.000000tdn,
                  trn,
                  trn,
                    th75%thn,
                    td9.000000tdn,
                    td325.657500tdn,
                    td1.000000tdn,
                    td1.000000tdn,
                    td1.000000tdn,
                    td1.000000tdn,
                    td0.000000tdn,
                  trn,
                  trn,
                    thmaxthn,
                    td12.000000tdn,
                    td3345.930000tdn,
                    td1.000000tdn,
                    td1.000000tdn,
                    td1.000000tdn,
                    td1.000000tdn,
                    td1.000000tdn,
                  trn,
                tbodyn,
              tablen,
              div
            ],
            textplain [
                          recency       history  ...     treatment        targetn,
              count  64000.000000  64000.000000  ...  64000.000000  64000.000000n,
              mean       5.763734    242.085656  ...      0.667094      0.146781n,
              std        3.507592    256.158608  ...      0.471257      0.353890n,
              min        1.000000     29.990000  ...      0.000000      0.000000n,
              25%        2.000000     64.660000  ...      0.000000      0.000000n,
              50%        6.000000    158.110000  ...      1.000000      0.000000n,
              75%        9.000000    325.657500  ...      1.000000      0.000000n,
              max       12.000000   3345.930000  ...      1.000000      1.000000n,
              n,
              [8 rows x 7 columns]
            ]
          },
          metadata {
            tags []
          },
          execution_count 60
        }
      ]
    },
    {
      cell_type code,
      metadata {
        colab {
          base_uri httpslocalhost8080
        },
        id wjRHmTS-xFuT,
        outputId ae24077b-b06e-42f2-efe2-8b26c67ca872
      },
      source [
        # C������ ��������n,
        for value in ['recency','history','used_discount','used_bogo','zip_code','is_referral','channel','treatment','target']n,
            print(df[value].value_counts(), 'n--------')
      ],
      execution_count 61,
      outputs [
        {
          output_type stream,
          text [
            1     8952n,
            10    7565n,
            2     7537n,
            9     6441n,
            3     5904n,
            4     5077n,
            6     4605n,
            5     4510n,
            7     4078n,
            11    3504n,
            8     3495n,
            12    2332n,
            Name recency, dtype int64 n,
            --------n,
            29.99     7947n,
            81.20        9n,
            53.79        9n,
            142.94       8n,
            35.40        8n,
                      ... n,
            701.66       1n,
            246.45       1n,
            798.83       1n,
            125.19       1n,
            104.00       1n,
            Name history, Length 34833, dtype int64 n,
            --------n,
            1    35266n,
            0    28734n,
            Name used_discount, dtype int64 n,
            --------n,
            1    35182n,
            0    28818n,
            Name used_bogo, dtype int64 n,
            --------n,
            Surburban    28776n,
            Urban        25661n,
            Rural         9563n,
            Name zip_code, dtype int64 n,
            --------n,
            1    32144n,
            0    31856n,
            Name is_referral, dtype int64 n,
            --------n,
            Web             28217n,
            Phone           28021n,
            Multichannel     7762n,
            Name channel, dtype int64 n,
            --------n,
            1    42694n,
            0    21306n,
            Name treatment, dtype int64 n,
            --------n,
            0    54606n,
            1     9394n,
            Name target, dtype int64 n,
            --------n
          ],
          name stdout
        }
      ]
    },
    {
      cell_type code,
      metadata {
        colab {
          base_uri httpslocalhost8080,
          height 138
        },
        id DnHVTKmqx1wU,
        outputId b4bc7bae-ff14-4b00-941c-779a6d620c6e
      },
      source [
        # ��������� ��� �������������� �������� � dummiesn,
        df = pd.concat([df.drop(['zip_code', 'channel'], axis=1), n,
                                  pd.get_dummies(df['zip_code'], prefix='zip_code'),n,
                                  pd.get_dummies(df['channel'], prefix='channel')n,
                                 ], 1)n,
        n,
        df.head(3)
      ],
      execution_count 62,
      outputs [
        {
          output_type execute_result,
          data {
            texthtml [
              divn,
              style scopedn,
                  .dataframe tbody tr thonly-of-type {n,
                      vertical-align middle;n,
                  }n,
              n,
                  .dataframe tbody tr th {n,
                      vertical-align top;n,
                  }n,
              n,
                  .dataframe thead th {n,
                      text-align right;n,
                  }n,
              stylen,
              table border=1 class=dataframen,
                theadn,
                  tr style=text-align right;n,
                    ththn,
                    threcencythn,
                    thhistorythn,
                    thused_discountthn,
                    thused_bogothn,
                    this_referralthn,
                    thtreatmentthn,
                    thtargetthn,
                    thzip_code_Ruralthn,
                    thzip_code_Surburbanthn,
                    thzip_code_Urbanthn,
                    thchannel_Multichannelthn,
                    thchannel_Phonethn,
                    thchannel_Webthn,
                  trn,
                theadn,
                tbodyn,
                  trn,
                    th0thn,
                    td10tdn,
                    td142.44tdn,
                    td1tdn,
                    td0tdn,
                    td0tdn,
                    td1tdn,
                    td0tdn,
                    td0tdn,
                    td1tdn,
                    td0tdn,
                    td0tdn,
                    td1tdn,
                    td0tdn,
                  trn,
                  trn,
                    th1thn,
                    td6tdn,
                    td329.08tdn,
                    td1tdn,
                    td1tdn,
                    td1tdn,
                    td0tdn,
                    td0tdn,
                    td1tdn,
                    td0tdn,
                    td0tdn,
                    td0tdn,
                    td0tdn,
                    td1tdn,
                  trn,
                  trn,
                    th2thn,
                    td7tdn,
                    td180.65tdn,
                    td0tdn,
                    td1tdn,
                    td1tdn,
                    td1tdn,
                    td0tdn,
                    td0tdn,
                    td1tdn,
                    td0tdn,
                    td0tdn,
                    td0tdn,
                    td1tdn,
                  trn,
                tbodyn,
              tablen,
              div
            ],
            textplain [
                 recency  history  ...  channel_Phone  channel_Webn,
              0       10   142.44  ...              1            0n,
              1        6   329.08  ...              0            1n,
              2        7   180.65  ...              0            1n,
              n,
              [3 rows x 13 columns]
            ]
          },
          metadata {
            tags []
          },
          execution_count 62
        }
      ]
    },
    {
      cell_type markdown,
      metadata {
        id 5mlVOFnW1tEd
      },
      source [
        ## ��������� ������ ������
      ]
    },
    {
      cell_type markdown,
      metadata {
        id jMdGD9J0v39S
      },
      source [
        ������� ��������� ������ ������ �� ������������� � �������� �������
      ]
    },
    {
      cell_type code,
      metadata {
        id vGLfETViv39S,
        colab {
          base_uri httpslocalhost8080
        },
        outputId 4d1cb373-c260-43cc-8c47-ff03496c5cdf
      },
      source [
        X_train, X_test = train_test_split(df.drop(['target'], axis=1), test_size=0.3, shuffle=True, random_state=42)n,
        y_train, y_test = train_test_split(df['target'], test_size=0.3, shuffle=True, random_state=42)n,
        n,
        X_train.shape, y_train.shape, X_test.shape, y_test.shape
      ],
      execution_count 64,
      outputs [
        {
          output_type execute_result,
          data {
            textplain [
              ((44800, 12), (44800,), (19200, 12), (19200,))
            ]
          },
          metadata {
            tags []
          },
          execution_count 64
        }
      ]
    },
    {
      cell_type markdown,
      metadata {
        id r8az0MDV15Fn
      },
      source [
        ## Uplift-�������������
      ]
    },
    {
      cell_type markdown,
      metadata {
        id 4FlBYxN4v39S
      },
      source [
        �������� uplift-������������� 3 ��������� ���� ������ � ��������� ������������ (S learner), ������ � �������������� ������� (������������� ������� �. 2. 1) � ������� � ����� ������������ ��������
      ]
    },
    {
      cell_type code,
      metadata {
        colab {
          base_uri httpslocalhost8080
        },
        id a3C3qvr01_sc,
        outputId c70e4ba6-9095-442e-8363-da7031ecd7f6
      },
      source [
        df.columns
      ],
      execution_count 65,
      outputs [
        {
          output_type execute_result,
          data {
            textplain [
              Index(['recency', 'history', 'used_discount', 'used_bogo', 'is_referral',n,
                     'treatment', 'target', 'zip_code_Rural', 'zip_code_Surburban',n,
                     'zip_code_Urban', 'channel_Multichannel', 'channel_Phone',n,
                     'channel_Web'],n,
                    dtype='object')
            ]
          },
          metadata {
            tags []
          },
          execution_count 65
        }
      ]
    },
    {
      cell_type code,
      metadata {
        id VjgQPXo7v39T
      },
      source [
        models_results = pd.DataFrame(columns=['uplift@10%', 'uplift@20%'])n,
        treat_train = X_train['treatment']n,
        treat_test = X_test['treatment']
      ],
      execution_count 55,
      outputs []
    },
    {
      cell_type code,
      metadata {
        id Ke5WIPcAv39T,
        colab {
          base_uri httpslocalhost8080
        },
        outputId 7b6f0b1e-e1fb-4b06-adda-31f6595808c5
      },
      source [
        %%time n,
        n,
        sm = SoloModel(CatBoostClassifier(iterations=50, n,
                                          thread_count=8, n,
                                          random_state=42, n,
                                          silent=True))n,
        n,
        sm = sm.fit(X_train, y_train, treat_train)n,
        uplift_sm = sm.predict(X_test)n,
        n,
        sm_score_01 = uplift_at_k(y_true=y_test, uplift=uplift_sm, treatment=treat_test, strategy='by_group', k=0.1)n,
        sm_score_02 = uplift_at_k(y_true=y_test, uplift=uplift_sm, treatment=treat_test, strategy='by_group', k=0.2)n,
        n,
        models_results.loc[f'SoloModel', 'uplift@10%'] = sm_score_01n,
        models_results.loc[f'SoloModel', 'uplift@20%'] = sm_score_02
      ],
      execution_count 67,
      outputs [
        {
          output_type stream,
          text [
            CPU times user 1.35 s, sys 264 ms, total 1.61 sn,
            Wall time 928 msn
          ],
          name stdout
        }
      ]
    },
    {
      cell_type code,
      metadata {
        id iPz3AhVYv39T,
        colab {
          base_uri httpslocalhost8080
        },
        outputId 104490a4-31a5-4b8a-d3e9-7fce77af9187
      },
      source [
        %%time n,
        n,
        ct = ClassTransformation(CatBoostClassifier(iterations=50, n,
                                                    thread_count=8, n,
                                                    random_state=42, n,
                                                    silent=True))n,
        n,
        ct = ct.fit(X_train, y_train, treat_train)n,
        uplift_ct = ct.predict(X_test)n,
        n,
        ct_score_01 = uplift_at_k(y_true=y_test, uplift=uplift_ct, treatment=treat_test, strategy='by_group', k=0.1)n,
        ct_score_02 = uplift_at_k(y_true=y_test, uplift=uplift_ct, treatment=treat_test, strategy='by_group', k=0.2)n,
        n,
        models_results.loc[f'ClassTransformation', 'uplift@10%'] = ct_score_01n,
        models_results.loc[f'ClassTransformation', 'uplift@20%'] = ct_score_02
      ],
      execution_count 68,
      outputs [
        {
          output_type stream,
          text [
            CPU times user 1.34 s, sys 260 ms, total 1.6 sn,
            Wall time 912 msn
          ],
          name stdout
        }
      ]
    },
    {
      cell_type code,
      metadata {
        id 3BmbuhgY5BmW
      },
      source [
        # TwoModels
      ],
      execution_count 69,
      outputs []
    },
    {
      cell_type code,
      metadata {
        id HQljpU9Jv39U,
        colab {
          base_uri httpslocalhost8080
        },
        outputId 5ab0c2ee-8c63-4eed-afd3-bf23e43ad585
      },
      source [
        %%time n,
        n,
        tm = TwoModels(n,
            estimator_trmnt=CatBoostClassifier(iterations=50, n,
                                               thread_count=8, n,
                                               random_state=42, n,
                                               silent=True), n,
            estimator_ctrl=CatBoostClassifier(iterations=50, n,
                                              thread_count=8, n,
                                              random_state=42, n,
                                              silent=True), n,
            method='vanilla'n,
        )n,
        n,
        tm = tm.fit(X_train, y_train, treat_train)n,
        uplift_tm = tm.predict(X_test)n,
        n,
        tm_score_01 = uplift_at_k(y_true=y_test, uplift=uplift_tm, treatment=treat_test, strategy='by_group', k=0.1)n,
        tm_score_02 = uplift_at_k(y_true=y_test, uplift=uplift_tm, treatment=treat_test, strategy='by_group', k=0.2)n,
        n,
        models_results.loc[f'TwoModels', 'uplift@10%'] = tm_score_01n,
        models_results.loc[f'TwoModels', 'uplift@20%'] = tm_score_02
      ],
      execution_count 70,
      outputs [
        {
          output_type stream,
          text [
            CPU times user 1.8 s, sys 400 ms, total 2.2 sn,
            Wall time 1.3 sn
          ],
          name stdout
        }
      ]
    },
    {
      cell_type markdown,
      metadata {
        id DNGEST_a2Ba7
      },
      source [
        ## ������� ��������� ������
      ]
    },
    {
      cell_type markdown,
      metadata {
        id SYf1g-VEv39U
      },
      source [
        ������� ������ ������� ��������� ������ uplift@10%, uplift@20% ���� 3 �������
      ]
    },
    {
      cell_type code,
      metadata {
        id h_liFodHv39U,
        colab {
          base_uri httpslocalhost8080,
          height 138
        },
        outputId f68f2a9a-e0cf-4524-b9f0-7ba2488a2084
      },
      source [
        models_results
      ],
      execution_count 71,
      outputs [
        {
          output_type execute_result,
          data {
            texthtml [
              divn,
              style scopedn,
                  .dataframe tbody tr thonly-of-type {n,
                      vertical-align middle;n,
                  }n,
              n,
                  .dataframe tbody tr th {n,
                      vertical-align top;n,
                  }n,
              n,
                  .dataframe thead th {n,
                      text-align right;n,
                  }n,
              stylen,
              table border=1 class=dataframen,
                theadn,
                  tr style=text-align right;n,
                    ththn,
                    thuplift@10%thn,
                    thuplift@20%thn,
                  trn,
                theadn,
                tbodyn,
                  trn,
                    thSoloModelthn,
                    td0.0704374tdn,
                    td0.0766759tdn,
                  trn,
                  trn,
                    thClassTransformationthn,
                    td0.247566tdn,
                    td0.20387tdn,
                  trn,
                  trn,
                    thTwoModelsthn,
                    td0.0892742tdn,
                    td0.0822209tdn,
                  trn,
                tbodyn,
              tablen,
              div
            ],
            textplain [
                                  uplift@10% uplift@20%n,
              SoloModel            0.0704374  0.0766759n,
              ClassTransformation   0.247566    0.20387n,
              TwoModels            0.0892742  0.0822209
            ]
          },
          metadata {
            tags []
          },
          execution_count 71
        }
      ]
    },
    {
      cell_type markdown,
      metadata {
        id JAQYU-6p2JKr
      },
      source [
        ## ������ UpliftTreeClassifier
      ]
    },
    {
      cell_type markdown,
      metadata {
        id _FTxsfx2v39V
      },
      source [
        ��������� ������ UpliftTreeClassifier � ���������� ������� ������� ���������� ������
      ]
    },
    {
      cell_type code,
      metadata {
        id oqKHCYDmv39V,
        colab {
          base_uri httpslocalhost8080,
          height 198
        },
        outputId 1e5b3972-a101-40c8-b3fc-dcf9a23a5a7e
      },
      source [
        X_train_tree = X_train.copy()n,
        features = [col for col in X_train_tree]n,
        X_train_tree.head()                      
      ],
      execution_count 72,
      outputs [
        {
          output_type execute_result,
          data {
            texthtml [
              divn,
              style scopedn,
                  .dataframe tbody tr thonly-of-type {n,
                      vertical-align middle;n,
                  }n,
              n,
                  .dataframe tbody tr th {n,
                      vertical-align top;n,
                  }n,
              n,
                  .dataframe thead th {n,
                      text-align right;n,
                  }n,
              stylen,
              table border=1 class=dataframen,
                theadn,
                  tr style=text-align right;n,
                    ththn,
                    threcencythn,
                    thhistorythn,
                    thused_discountthn,
                    thused_bogothn,
                    this_referralthn,
                    thtreatmentthn,
                    thzip_code_Ruralthn,
                    thzip_code_Surburbanthn,
                    thzip_code_Urbanthn,
                    thchannel_Multichannelthn,
                    thchannel_Phonethn,
                    thchannel_Webthn,
                  trn,
                theadn,
                tbodyn,
                  trn,
                    th9656thn,
                    td7tdn,
                    td434.35tdn,
                    td1tdn,
                    td0tdn,
                    td1tdn,
                    td0tdn,
                    td0tdn,
                    td0tdn,
                    td1tdn,
                    td0tdn,
                    td0tdn,
                    td1tdn,
                  trn,
                  trn,
                    th63037thn,
                    td1tdn,
                    td376.59tdn,
                    td1tdn,
                    td0tdn,
                    td0tdn,
                    td1tdn,
                    td0tdn,
                    td1tdn,
                    td0tdn,
                    td1tdn,
                    td0tdn,
                    td0tdn,
                  trn,
                  trn,
                    th31405thn,
                    td3tdn,
                    td140.34tdn,
                    td0tdn,
                    td1tdn,
                    td1tdn,
                    td1tdn,
                    td0tdn,
                    td0tdn,
                    td1tdn,
                    td0tdn,
                    td1tdn,
                    td0tdn,
                  trn,
                  trn,
                    th58088thn,
                    td3tdn,
                    td150.76tdn,
                    td0tdn,
                    td1tdn,
                    td0tdn,
                    td0tdn,
                    td0tdn,
                    td1tdn,
                    td0tdn,
                    td0tdn,
                    td0tdn,
                    td1tdn,
                  trn,
                  trn,
                    th44344thn,
                    td2tdn,
                    td67.97tdn,
                    td1tdn,
                    td0tdn,
                    td1tdn,
                    td1tdn,
                    td0tdn,
                    td1tdn,
                    td0tdn,
                    td0tdn,
                    td1tdn,
                    td0tdn,
                  trn,
                tbodyn,
              tablen,
              div
            ],
            textplain [
                     recency  history  ...  channel_Phone  channel_Webn,
              9656         7   434.35  ...              0            1n,
              63037        1   376.59  ...              0            0n,
              31405        3   140.34  ...              1            0n,
              58088        3   150.76  ...              0            1n,
              44344        2    67.97  ...              1            0n,
              n,
              [5 rows x 12 columns]
            ]
          },
          metadata {
            tags []
          },
          execution_count 72
        }
      ]
    },
    {
      cell_type code,
      metadata {
        colab {
          base_uri httpslocalhost8080
        },
        id wU43eLoY6ahm,
        outputId 6ce5fd82-6388-4680-99f4-a571a7c875a3
      },
      source [
        %%timen,
        n,
        uplift_model = UpliftTreeClassifier(max_depth=7, min_samples_leaf=200, min_samples_treatment=50,n,
                                            n_reg=100, evaluationFunction='KL', control_name='control')n,
        n,
        uplift_model.fit(X_train_tree.values,n,
                         treatment=treat_train.map({1 'treatment1', 0 'control'}).values,n,
                         y=y_train)n,
        n,
        graph = uplift_tree_plot(uplift_model.fitted_uplift_tree, features)n,
        Image(graph.create_png())
      ],
      execution_count 100,
      outputs [
        {
          output_type stream,
          text [
            CPU times user 5.69 s, sys 46.7 ms, total 5.74 sn,
            Wall time 6.9 sn
          ],
          name stdout
        }
      ]
    },
    {
      cell_type markdown,
      metadata {
        id VrZEUoj_v39W
      },
      source [
        �� ������������ �������� �� Colab, ���������� ������ ���������� ���� graphviz, pydotplus, ���� �� �����.
      ]
    }
  ]
}